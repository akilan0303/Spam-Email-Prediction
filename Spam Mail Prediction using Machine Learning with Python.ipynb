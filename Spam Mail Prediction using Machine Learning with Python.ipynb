{
 "cells": [
  {
   "cell_type": "code",
   "execution_count": 2,
   "id": "fa647c4d-8f69-4bf6-be85-f40e68d738a6",
   "metadata": {},
   "outputs": [],
   "source": [
    "import numpy as np\n",
    "import pandas as pd\n",
    "from sklearn.model_selection import train_test_split\n",
    "from sklearn.feature_extraction.text import TfidfVectorizer\n",
    "from sklearn.linear_model import LogisticRegression\n",
    "from sklearn.metrics import accuracy_score\n",
    "\n",
    "# Load dataset\n",
    "url = \"https://raw.githubusercontent.com/akilan0303/Spam-Email-Prediction/refs/heads/main/mail_data.csv\"\n",
    "mail_data = pd.read_csv(url)\n",
    "\n",
    "# Preprocessing\n",
    "mail_data.fillna('', inplace=True)\n",
    "mail_data['Category'] = mail_data['Category'].map({'spam': 0, 'ham': 1})\n",
    "\n",
    "# Split data\n",
    "X_train, X_test, Y_train, Y_test = train_test_split(mail_data['Message'], mail_data['Category'], test_size=0.2, random_state=3)\n",
    "\n",
    "# Convert text data to numerical vectors\n",
    "vectorizer = TfidfVectorizer(min_df=1, stop_words='english', lowercase=True)\n",
    "X_train_features = vectorizer.fit_transform(X_train)\n",
    "X_test_features = vectorizer.transform(X_test)\n"
   ]
  },
  {
   "cell_type": "code",
   "execution_count": 3,
   "id": "eb2978e9-b97d-4cba-b460-125bcba5271b",
   "metadata": {},
   "outputs": [
    {
     "name": "stdout",
     "output_type": "stream",
     "text": [
      "Training Accuracy: 0.9676912721561588\n",
      "Test Accuracy: 0.9668161434977578\n"
     ]
    }
   ],
   "source": [
    "# Train model\n",
    "model = LogisticRegression()\n",
    "model.fit(X_train_features, Y_train)\n",
    "\n",
    "# Accuracy scores\n",
    "print(\"Training Accuracy:\", accuracy_score(Y_train, model.predict(X_train_features)))\n",
    "print(\"Test Accuracy:\", accuracy_score(Y_test, model.predict(X_test_features)))\n"
   ]
  },
  {
   "cell_type": "code",
   "execution_count": 5,
   "id": "3a02aa33-064e-4ecf-bc60-e49ceee63991",
   "metadata": {},
   "outputs": [
    {
     "name": "stdout",
     "output_type": "stream",
     "text": [
      "Prediction: Spam Mail\n"
     ]
    }
   ],
   "source": [
    "# Sample mail prediction\n",
    "sample_mail = [\"You won a free iPhone! Click here to claim now.\"]\n",
    "sample_features = vectorizer.transform(sample_mail)\n",
    "prediction = model.predict(sample_features)\n",
    "\n",
    "# Output result\n",
    "# Check the prediction result\n",
    "if prediction[0] == 1:\n",
    "    print(\"Prediction: Ham Mail\")\n",
    "else:\n",
    "    print(\"Prediction: Spam Mail\")\n",
    "\n"
   ]
  },
  {
   "cell_type": "code",
   "execution_count": null,
   "id": "4d79354b-654c-441c-acb3-97ac7fb89004",
   "metadata": {},
   "outputs": [],
   "source": []
  }
 ],
 "metadata": {
  "kernelspec": {
   "display_name": "Python 3 (ipykernel)",
   "language": "python",
   "name": "python3"
  },
  "language_info": {
   "codemirror_mode": {
    "name": "ipython",
    "version": 3
   },
   "file_extension": ".py",
   "mimetype": "text/x-python",
   "name": "python",
   "nbconvert_exporter": "python",
   "pygments_lexer": "ipython3",
   "version": "3.12.7"
  }
 },
 "nbformat": 4,
 "nbformat_minor": 5
}
